{
  "nbformat": 4,
  "nbformat_minor": 0,
  "metadata": {
    "colab": {
      "name": "ML_Ass3_Liang_Ou_13060835.ipynb",
      "provenance": [],
      "collapsed_sections": []
    },
    "kernelspec": {
      "name": "python3",
      "display_name": "Python 3"
    }
  },
  "cells": [
    {
      "cell_type": "markdown",
      "metadata": {
        "id": "7nCV6RP-sTrp",
        "colab_type": "text"
      },
      "source": [
        "# PROJECT TITLE \n",
        "## Pitch and Plan for Research project – Text-mining-based machine learning model for financial statement audition\n",
        "\n",
        "Studnet Name | Student ID\n",
        "-|-\n",
        "Liang Ou | 13060835\n",
        "\n",
        "Github link: https://github.com/ouliang0128/ML_Ass3/"
      ]
    },
    {
      "cell_type": "markdown",
      "metadata": {
        "id": "CN9spVaCsloQ",
        "colab_type": "text"
      },
      "source": [
        "# 1. AIMS"
      ]
    },
    {
      "cell_type": "markdown",
      "metadata": {
        "id": "7sjFJrelsoSF",
        "colab_type": "text"
      },
      "source": [
        "Financial audits in convention only involve financial statements analysis done by external auditors who must have a sophisticate education background and domain experience. Nevertheless, financial statement audits still require tremendous effort from auditors and leave a loophole for corruption. To alleviate this issue, this project aims at developing a machine learning based model to help auditors detect false accounting. This model will use both financial statements and all other accessible enterprise data, such as sales data, product information and other files generated from the Business Process of the company. "
      ]
    },
    {
      "cell_type": "markdown",
      "metadata": {
        "id": "-6AdJMy_su8X",
        "colab_type": "text"
      },
      "source": [
        "This overall aim can be broken down into 3 objectives: First (i), acquiring sufficient data for training, which may include labeled (fraud or not) financial statements of companies and other information about these companies. Second (ii), build a machine learning model by trying different classifiers including both supervised and unsupervised algorithms. Third (iii), validating and deploying the model on a real-world business case while improving and adjusting it."
      ]
    },
    {
      "cell_type": "markdown",
      "metadata": {
        "id": "VDlUNJpZs4Qf",
        "colab_type": "text"
      },
      "source": [
        "# 2. BACKGROUND "
      ]
    },
    {
      "cell_type": "markdown",
      "metadata": {
        "id": "rGhdmofetlSO",
        "colab_type": "text"
      },
      "source": [
        "One noticeable example of financial statement fraud is LEHMAN BROTHERS SCANDAL in 2008. This company took advantages of an accounting loophole to hide over 50 billion dollars in loans disguised as sales. They sold their toxic assets to Cayman Island banks. Finally in 2008, their fraud led to bankruptcy, which is a catastrophic disaster. Hundreds of employers lost their jobs, which intensified the financial crisis in 2008, in which 10 trillion dollars in market capitalization was wiped out from global equity markets. In the aspect of financial statement audit, it actually failed to identify the accounting fraud created by LEHMAN BROTHERS. This may due to the auditors given too much trust to the LEHMAN BROTHERS, or even corruption of auditors."
      ]
    },
    {
      "cell_type": "markdown",
      "metadata": {
        "id": "y8uQh1wts5zG",
        "colab_type": "text"
      },
      "source": [
        "According to PricewaterhouseCoopers’ Forensic Services Practice, the settlement value of lawsuits for accounting misstatement has an increasing trend (Table 1). In fact, in 2007, accounting fraud consists of 14,1% of all economic crime in Australia.\n",
        "\n",
        "\n",
        "Accounting cases |  |  | | |\n",
        "---|---|---|---|---\n",
        "Year settled | No. of accounting-related federal lawsuits | No. of financial restatements | Number of settled cases | Average settlement value ($US)\n",
        "1996-2000\t| 106|\t49\t|161|\t18,600,000\n",
        "2001|\t123\t|60\t|70\t|23,800,000\n",
        "2002\t|167\t|82\t|81\t|17,400,000\n",
        "2003\t|120\t|40\t|80\t|27,800,000\n",
        "2004\t|132\t|51\t|78\t|34,800,000\n",
        "2005\t|87\t|45\t|84\t|90,300,000\n",
        "2006\t|64|\t37\t|77\t|74.100,000\n",
        "\n",
        "<center>Table 1. Accounting cases in Austrilia from 1996 to 2006  (PricewaterhouseCoopers’ Forensic Services Practice n.d., pp. 41)</center>\n"
      ]
    },
    {
      "cell_type": "markdown",
      "metadata": {
        "id": "TUEIht8WDHBn",
        "colab_type": "text"
      },
      "source": [
        "Traditional audits rely on manually check financial statements by an auditor, which has many drawbacks. According to Asare, Wright & Zimbelman (2015), there are 6 major difficulties facing auditors. During the audit process, incentives and opportunities for management are hard to be identified with a fixed audit program. In the aspect of auditors, their lack of experience and too much trust in management will lead to the failing of detection.\n",
        "To address these issues, machine learning techniques are introduced. Sharma & Panigrahi (2013) evaluate 6 classifiers on financial statement fraud detection, which are Multilayer Feed Forward Neural Network (MLFF), Support Vector Machines (SVM), Genetic Programming (GP), Group Method of Data Handling (GMDH), Logistic Regression (LR) and Probabilistic Neural Network (PNN). Their experiments claim that PNN outperforms others, while GP is the second-best classifier. Another study (Hajek & Henriques 2017) found out that ensemble methods are the best in terms of true positive rate, while Bayesian Belief Networks are the best in true negative rate. However, in consideration of fraud statements can adapt to a fixed predictor, the adaptability of the model is required. Zhou & Kapoor (2011) proposed an evolutionary framework that combines the Response Surface Methodology (RSM) with domain knowledge to solve the adaptability issue of the model. \n"
      ]
    },
    {
      "cell_type": "markdown",
      "metadata": {
        "id": "a2V9pxNcDu5j",
        "colab_type": "text"
      },
      "source": [
        "# 3. RESEARCH PROJECT"
      ]
    },
    {
      "cell_type": "markdown",
      "metadata": {
        "id": "9gNOiJMJEt0e",
        "colab_type": "text"
      },
      "source": [
        "## 3.1 Project Value Statement: \n",
        "\n",
        "Although previous studies adopted many machine learning techniques into fraud detection for financial statements, they only include supervised learning methods, by which fraudulent labels must be known as prior. This condition is unrealistic in a real business environment. For which, this research proposes an unsupervised learning algorithm which will include a criterion called \"originality\". This criterion refers to the trustworthiness of a record which may be calculated by its similarity with other records. The proposed model will give the reliability of all records by reference to both the possibility of fraudulence and originality. In addition, as Asare, Wright & Zimbelman (2015) and Sharma & Panigrahi (2013) admitted, text mining techniques will be future research direction in financial statement fraud detection, this research will include text mining techniques, such as Natural Language Processing (NLP) techniques, to reinforce the proposed model. This is because the proposed model will include not only financial statements from companies but also other information, such as news reports, sales reports and product information, that relate to the audited companies to enhance the performance of the model. This report believes the proposed m will combine text-mining techniques and previous financial statements analysis methods to archive high detection rates and high adaptability. "
      ]
    },
    {
      "cell_type": "markdown",
      "metadata": {
        "id": "HQN_uWs_D2C-",
        "colab_type": "text"
      },
      "source": [
        "## 3.2 Stakeholders:\n",
        "\n",
        "This project will benefit major 6 types of people, they are Auditors, Managers, Stockholders, Banks,Governments and the Public. Table 2 liste them and their possible interest for this project.  \n",
        "\n",
        "\n",
        "\n",
        "\n",
        "Stakeholder\t|How the project benefits them\n",
        "---|---\n",
        "Auditor|\tEase their job on checking financial statements\n",
        "The management team of companies\t|Managers can use the prediction model to monitor its business process \n",
        "Stockholders |\tStockholders of the company can evaluate the trustworthiness of the company’s financial statement by using this model\n",
        "Banks |\tBanks can evaluate the credibility of the company through this model\n",
        "Governments|\tGovernments can identify corruptions though this model\n",
        "The Public\t| The public will benefit by more transparent \n",
        "\n",
        "<center>Table 2. Possible stakeholders of this project, and how they can benefit from the project</center>\n"
      ]
    },
    {
      "cell_type": "markdown",
      "metadata": {
        "id": "Sev7xFbmFsEr",
        "colab_type": "text"
      },
      "source": [
        "## 3.3 Natural Language Processing (NLP) \n",
        "\n",
        "As a component artificial intelligence, Natural language processing (NLP) aims at understanding human language by computer. It achieves this purpose by Syntactic Analysis and Semantic Analysis. Syntactic Analysis is one way of extracting meanings from texts. It converts the original sentences into new sentences that align with rules of formal grammar. Another way of extracting meanings from texts is Semantic Analysis, by which meaningfulness of individual words and their combination is checked. \n",
        "After NLP, the original text files are converted into a standard data file. These files will integrate into the financial statement file from the training set.\n",
        "\n"
      ]
    },
    {
      "cell_type": "markdown",
      "metadata": {
        "id": "hlI031ixF72r",
        "colab_type": "text"
      },
      "source": [
        "## 3.4 Project scope and the Work Breakdown Structure (WBS)\n",
        "This section discusses all tasks that will be performed in this project and the related work breakdown structure of the proposed project. It is believed that this project will include 6 major scope items, they are plan development, HR management, modeling, testing, deployment and maintenance.\n"
      ]
    },
    {
      "cell_type": "markdown",
      "metadata": {
        "id": "VwfMao36GJAp",
        "colab_type": "text"
      },
      "source": [
        "**Project: Text-mining-based machine learning model for financial statement audition**\n",
        "\n",
        "\n",
        "1. Develop the plan for the project\n",
        "\n",
        "  1.1 Develop the technology architecture plan\n",
        "  \n",
        "        1.1.1\tDevelop hardware and software plan   \n",
        "        1.1.2\tDevelop modeling plan    \n",
        "        1.1.3\tDevelop a testing plan    \n",
        "        1.1.4\tIntegrate all plans    \n",
        "        1.1.5\tThe technology architecture plan (Deliverable)\n",
        "  1.2\tDevelop Human Resource management plan\n",
        "\n",
        "        1.2.1\tEstimate workload\n",
        "        1.2.2\tDevelop Positions and Payments for all roles\n",
        "        1.2.3\tThe Human Resource management plan (Deliverable)\n",
        "  1.3\tDevelop risk management and monitoring plan\n",
        "        1.3.1\tEstimate risks\n",
        "        1.3.2\tDevelop solutions for risks \n",
        "        1.3.3\tDevelop a monitoring scheme\n",
        "        1.3.4\tThe risk management and monitoring plan (Deliverable)\n",
        "  1.4\tThe project plan (Deliverable)\n",
        "\n",
        "2.\tHuman Resource management\n",
        "  \n",
        "  2.1\tRecruit team members\n",
        "  \n",
        "  2.2\tAssign roles and tasks for each of the members\n",
        "  \n",
        "  2.3\tManage the team\n",
        "\n",
        "  2.4\tAvailable team (Deliverable)\n",
        "3.\tModeling\n",
        "\n",
        "  3.1\tData collection\n",
        "\n",
        "          3.1.1\tCollect dataset of financial statement\n",
        "          3.1.2\tCollect other information in the form of text files\n",
        "          3.1.3\tDocumented data (Deliverable)\n",
        "  3.2\tDevelop the model structure\n",
        "  \n",
        "          3.2.1\tDevelop text-mining model\n",
        "          3.2.2\tDevelop prediction model\n",
        "          3.2.3\tIntegrate into text-mining model and prediction model into one final model\n",
        "          3.2.4\tFinalized model (Deliverable)\n",
        "  3.3\tDevelop algorithms for the final model\n",
        "          3.3.1\tEvaluate state-of-the-art algorithms\n",
        "          3.3.2\tExplore related python libraries \n",
        "          3.3.3\tProduce new algorithms that suited for the project\n",
        "          3.3.4\tAlgorithms for models (Deliverable)\n",
        "  3.4\tModel evaluation\n",
        "          3.4.1\tDevelop evaluation criteria\n",
        "          3.4.2\tEvaluate model under the criteria\n",
        "          3.4.3\tOptimize the model by the evaluation result\n",
        "          3.4.4\tOptimized model (Deliverable)\n",
        "4.\tTest the Prototype\n",
        "  \n",
        "  4.1\tTest the model on a real-business case\n",
        "  \n",
        "  4.2\tGather test results\n",
        "  \n",
        "  4.3\tAdjust the model according to test results\n",
        "\n",
        "  4.4\tUsable model (Deliverable)\n",
        "5.\tDeploy the Prototype\n",
        "\n",
        "  5.1\tIntegrate model into business process\n",
        "\n",
        "  5.2\tTrain staff for using the prototype\n",
        "  \n",
        "  5.3\tDeployed prototype (Deliverable)\n",
        "6.\tMaintain and adapt the Prototype\n",
        "  \n",
        "  6.1\tProduce a maintenance schedule\n",
        "  \n",
        "  6.2\tProduce an adaption plan\n",
        "  \n",
        "  6.3\tMaintain and adapt plan (Deliverable)\n"
      ]
    },
    {
      "cell_type": "markdown",
      "metadata": {
        "id": "fVApxQrHKcfz",
        "colab_type": "text"
      },
      "source": [
        "## 3.5 Time Estimation\n",
        "According to the tasks listed above, the time estimation of this project is shown in Fig. 1, which is the Gantt Chart of this project. It assumes that this project will start from 1st Nov. 2019 and end by 30th Oct. 2020. \n",
        "![Fig. 1. Gantt Chart of this project](https://github.com/ouliang0128/ML_Ass3/blob/master/gantt_chart.png?raw=true)\n",
        "\n",
        "<center>Fig. 1. Gantt Chart of this project</center>"
      ]
    },
    {
      "cell_type": "markdown",
      "metadata": {
        "id": "RCPcQHUhLkoD",
        "colab_type": "text"
      },
      "source": [
        "# 4. BUDGET \n",
        "According to the tasks discussed in the previous section, the estimation of the budget in this project is about 25 million dollars, which can be broken down into 5 components listed in Table 3.\n",
        "\n",
        "Budget component\t|$ 1 millions\n",
        "-|-\n",
        "Hardware (on-premise-based and cloud-based)|\t100,000\n",
        "Software (on-premise-based and cloud-based)\t|\t50,000\n",
        "Project staff cost (Project team payment)\t|700,000\n",
        "Daily expenditure (reimbursement from staff, office replenishment)\t|50,000\n",
        "Contingency|\t100,000\n",
        "Total\t|1,000,000\n",
        "\n",
        "<center>Table 3. Budget estimation of the project</center>\n"
      ]
    },
    {
      "cell_type": "markdown",
      "metadata": {
        "id": "eoF3Fd29MOEJ",
        "colab_type": "text"
      },
      "source": [
        "# 5. PERSONNEL\n",
        "\n",
        "According to the fact that this project is a research on data mining modeling, the personnel required is estimated in Table 4. \n",
        "\n",
        "\n",
        "\n",
        "Role\t|Number of people required\t| Contributions and responsibilities\n",
        "-|-|-\n",
        "Project manager\t|1\t|1.\tAllocate tasks, monitoring the progress of the project\n",
        "||2.\tCommunicating externally and internally \n",
        "||3.\tManage reports and documentations\n",
        "Text-mining experts\t|2\t|1.\tEstablish text-mining model\n",
        "||2.\tExplain text-mining techniques to other team members\n",
        "||3.\tIntegrate the text-mining model into the final model\n",
        "Prediction model experts\t|2\t|1.\tEstablish prediction model\n",
        "||2.\tExplain their model to other team members\n",
        "||3.\tIntegrate the prediction model into the final model\n",
        "Financial audit experts|\t2|\t1.\t Extract business concepts into the modeling process.\n",
        "||2.\tProvide consultation to technical staff with their domain knowledge\n",
        "||3.\tNegotiate with buyers\n",
        "\n",
        "<center>Table 4. Roles and Responsibilities of personnel in this project</center>"
      ]
    },
    {
      "cell_type": "markdown",
      "metadata": {
        "id": "m6g2E5clNHiK",
        "colab_type": "text"
      },
      "source": [
        "Because this project does not require procurement and inventory management, technical staff are the major staff in this project. There are 5 roles in the project. First, one project manager is demanded the overall monitoring and control. The manager also has the responsibility to communicate with other external people for acquiring the necessary resources needed in the project. Because the proposed model includes text-mining for enterprise files, two text-mining experts are needed for establishing the text-mining model. Although they will focus on text-mining techniques, they still need to work under the purpose of financial statement audits. Which means they need to communicate with other staff and adjust their model accordingly. The other two technical experts are responsible for establishing the prediction model, which must have the ability to interface with the text-mining model. Finally, two financial audit experts are required for providing support related to domain knowledge. These two staff act as a bridge between the business world and the technical world. "
      ]
    },
    {
      "cell_type": "markdown",
      "metadata": {
        "id": "vppJ-CpZNKkJ",
        "colab_type": "text"
      },
      "source": [
        "# 6. VIDEO PITCH"
      ]
    },
    {
      "cell_type": "markdown",
      "metadata": {
        "id": "3A9o4n8cQLLZ",
        "colab_type": "text"
      },
      "source": [
        "This section provide a line to a Video Pitch of this project, the following URL link to the video:\n",
        "\n",
        "https://www.youtube.com/watch?v=PXZ53oB8NoM&t=14s\n",
        "\n",
        "\n"
      ]
    },
    {
      "cell_type": "code",
      "metadata": {
        "id": "CRjGBcv9QJdv",
        "colab_type": "code",
        "cellView": "both",
        "outputId": "b91ad1e7-4995-4dd8-fb29-1b11646f9247",
        "colab": {
          "base_uri": "https://localhost:8080/",
          "height": 420
        }
      },
      "source": [
        "#@title\n",
        "from IPython.display import YouTubeVideo\n",
        "YouTubeVideo('PXZ53oB8NoM', width=600, height=400)"
      ],
      "execution_count": 1,
      "outputs": [
        {
          "output_type": "execute_result",
          "data": {
            "text/html": [
              "\n",
              "        <iframe\n",
              "            width=\"600\"\n",
              "            height=\"400\"\n",
              "            src=\"https://www.youtube.com/embed/PXZ53oB8NoM\"\n",
              "            frameborder=\"0\"\n",
              "            allowfullscreen\n",
              "        ></iframe>\n",
              "        "
            ],
            "text/plain": [
              "<IPython.lib.display.YouTubeVideo at 0x7f9165fec630>"
            ],
            "image/jpeg": "[encoded data removed]"
          },
          "metadata": {
            "tags": []
          },
          "execution_count": 1
        }
      ]
    },
    {
      "cell_type": "markdown",
      "metadata": {
        "id": "kFmqesbwNt4m",
        "colab_type": "text"
      },
      "source": [
        "# REFERENCES "
      ]
    },
    {
      "cell_type": "markdown",
      "metadata": {
        "id": "QGDYfvvPNyFh",
        "colab_type": "text"
      },
      "source": [
        "\n",
        "PricewaterhouseCoopers’ Forensic Services Practice, n.d. *Fraud-A guide to its prevention, detection and investigation*, Sydney, viewed 05 October 2019, <https://www.pwc.com.au/consulting/assets/risk-controls/fraud-control-jul08.pdf>. \n",
        "<br><br>\n",
        "\n",
        "Asare, S.K., Wright, A. & Zimbelman, M.F. 2015, 'Challenges facing auditors in detecting financial statement fraud: Insights from fraud investigations', *Journal of Forensic and Investigative Accounting*, vol. 7, no. 2, pp. 63-111.\n",
        "<br><br>\n",
        "\n",
        "Hajek, P. & Henriques, R. 2017, 'Mining corporate annual reports for intelligent detection of financial statement fraud – A comparative study of machine learning methods', *Knowledge-Based Systems*, vol. 128, pp. 139-52.\n",
        "<br><br>\n",
        "\n",
        "Sharma, A. & Panigrahi, P.K. 2013, 'A review of financial accounting fraud detection based on data mining techniques', *arXiv preprint arXiv:1309.3944.*\n",
        "<br><br>\n",
        "\n",
        "Zhou, W. & Kapoor, G. 2011, 'Detecting evolutionary financial statement fraud', *Decision Support Systems*, vol. 50, no. 3, pp. 570-5.\n",
        "\n"
      ]
    }
  ]
}